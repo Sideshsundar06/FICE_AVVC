{
 "cells": [
  {
   "cell_type": "raw",
   "id": "68f40c42",
   "metadata": {},
   "source": [
    "# Here we will do the following:\n",
    "    Forming Explorative Data Analytics with Python Packages and libraries\n",
    "    Performing statistical operations with NumPy\n",
    "    Data Preprocessing with Pandas"
   ]
  },
  {
   "cell_type": "markdown",
   "id": "7dcd2051",
   "metadata": {},
   "source": [
    "# Data Preparation and Cleaning\n",
    "Here we try to prepare and clean the data for analysis. In this section we will check the configurations of the dataset like\n",
    "\n",
    "information about it, it's description, shape and columns.\n",
    "\n",
    "We will also check if there is any missing values and try to remove. We will also further make the dataset on basis of the state clearing some of the values"
   ]
  },
  {
   "cell_type": "code",
   "execution_count": 1,
   "id": "430e19b9",
   "metadata": {},
   "outputs": [],
   "source": [
    "## Import necessary libraries and tools for analysis\n",
    "import numpy as np\n",
    "import pandas as pd   # data processing, CSV file I/O (e.g. pd.read_csv)"
   ]
  },
  {
   "cell_type": "code",
   "execution_count": 2,
   "id": "c274bc85",
   "metadata": {},
   "outputs": [],
   "source": [
    "#Let's first read the csv file by using the pandas\n",
    "suicide_df=pd.read_csv('Suicides in India 2001-2012.csv')"
   ]
  },
  {
   "cell_type": "code",
   "execution_count": 3,
   "id": "7946672d",
   "metadata": {},
   "outputs": [
    {
     "name": "stdout",
     "output_type": "stream",
     "text": [
      "Number of rows are 237519\n",
      "Number of columns are 7\n"
     ]
    },
    {
     "data": {
      "text/plain": [
       "(237519, 7)"
      ]
     },
     "execution_count": 3,
     "metadata": {},
     "output_type": "execute_result"
    }
   ],
   "source": [
    "\n",
    "print ( \"Number of rows are\", suicide_df.shape[0])\n",
    "print ( \"Number of columns are\", suicide_df.shape[1])\n",
    "\n",
    "\n",
    "suicide_df.shape"
   ]
  },
  {
   "cell_type": "code",
   "execution_count": 4,
   "id": "89166fbb",
   "metadata": {},
   "outputs": [
    {
     "data": {
      "text/html": [
       "<div>\n",
       "<style scoped>\n",
       "    .dataframe tbody tr th:only-of-type {\n",
       "        vertical-align: middle;\n",
       "    }\n",
       "\n",
       "    .dataframe tbody tr th {\n",
       "        vertical-align: top;\n",
       "    }\n",
       "\n",
       "    .dataframe thead th {\n",
       "        text-align: right;\n",
       "    }\n",
       "</style>\n",
       "<table border=\"1\" class=\"dataframe\">\n",
       "  <thead>\n",
       "    <tr style=\"text-align: right;\">\n",
       "      <th></th>\n",
       "      <th>State</th>\n",
       "      <th>Year</th>\n",
       "      <th>Type_code</th>\n",
       "      <th>Type</th>\n",
       "      <th>Gender</th>\n",
       "      <th>Age_group</th>\n",
       "      <th>Total</th>\n",
       "    </tr>\n",
       "  </thead>\n",
       "  <tbody>\n",
       "    <tr>\n",
       "      <th>0</th>\n",
       "      <td>A &amp; N Islands</td>\n",
       "      <td>2001</td>\n",
       "      <td>Causes</td>\n",
       "      <td>Illness (Aids/STD)</td>\n",
       "      <td>Female</td>\n",
       "      <td>0-14</td>\n",
       "      <td>0</td>\n",
       "    </tr>\n",
       "    <tr>\n",
       "      <th>1</th>\n",
       "      <td>A &amp; N Islands</td>\n",
       "      <td>2001</td>\n",
       "      <td>Causes</td>\n",
       "      <td>Bankruptcy or Sudden change in Economic</td>\n",
       "      <td>Female</td>\n",
       "      <td>0-14</td>\n",
       "      <td>0</td>\n",
       "    </tr>\n",
       "    <tr>\n",
       "      <th>2</th>\n",
       "      <td>A &amp; N Islands</td>\n",
       "      <td>2001</td>\n",
       "      <td>Causes</td>\n",
       "      <td>Cancellation/Non-Settlement of Marriage</td>\n",
       "      <td>Female</td>\n",
       "      <td>0-14</td>\n",
       "      <td>0</td>\n",
       "    </tr>\n",
       "    <tr>\n",
       "      <th>3</th>\n",
       "      <td>A &amp; N Islands</td>\n",
       "      <td>2001</td>\n",
       "      <td>Causes</td>\n",
       "      <td>Physical Abuse (Rape/Incest Etc.)</td>\n",
       "      <td>Female</td>\n",
       "      <td>0-14</td>\n",
       "      <td>0</td>\n",
       "    </tr>\n",
       "    <tr>\n",
       "      <th>4</th>\n",
       "      <td>A &amp; N Islands</td>\n",
       "      <td>2001</td>\n",
       "      <td>Causes</td>\n",
       "      <td>Dowry Dispute</td>\n",
       "      <td>Female</td>\n",
       "      <td>0-14</td>\n",
       "      <td>0</td>\n",
       "    </tr>\n",
       "    <tr>\n",
       "      <th>...</th>\n",
       "      <td>...</td>\n",
       "      <td>...</td>\n",
       "      <td>...</td>\n",
       "      <td>...</td>\n",
       "      <td>...</td>\n",
       "      <td>...</td>\n",
       "      <td>...</td>\n",
       "    </tr>\n",
       "    <tr>\n",
       "      <th>237514</th>\n",
       "      <td>West Bengal</td>\n",
       "      <td>2012</td>\n",
       "      <td>Social_Status</td>\n",
       "      <td>Seperated</td>\n",
       "      <td>Male</td>\n",
       "      <td>0-100+</td>\n",
       "      <td>149</td>\n",
       "    </tr>\n",
       "    <tr>\n",
       "      <th>237515</th>\n",
       "      <td>West Bengal</td>\n",
       "      <td>2012</td>\n",
       "      <td>Social_Status</td>\n",
       "      <td>Widowed/Widower</td>\n",
       "      <td>Male</td>\n",
       "      <td>0-100+</td>\n",
       "      <td>233</td>\n",
       "    </tr>\n",
       "    <tr>\n",
       "      <th>237516</th>\n",
       "      <td>West Bengal</td>\n",
       "      <td>2012</td>\n",
       "      <td>Social_Status</td>\n",
       "      <td>Married</td>\n",
       "      <td>Male</td>\n",
       "      <td>0-100+</td>\n",
       "      <td>5451</td>\n",
       "    </tr>\n",
       "    <tr>\n",
       "      <th>237517</th>\n",
       "      <td>West Bengal</td>\n",
       "      <td>2012</td>\n",
       "      <td>Social_Status</td>\n",
       "      <td>Divorcee</td>\n",
       "      <td>Male</td>\n",
       "      <td>0-100+</td>\n",
       "      <td>189</td>\n",
       "    </tr>\n",
       "    <tr>\n",
       "      <th>237518</th>\n",
       "      <td>West Bengal</td>\n",
       "      <td>2012</td>\n",
       "      <td>Social_Status</td>\n",
       "      <td>Never Married</td>\n",
       "      <td>Male</td>\n",
       "      <td>0-100+</td>\n",
       "      <td>2658</td>\n",
       "    </tr>\n",
       "  </tbody>\n",
       "</table>\n",
       "<p>237519 rows × 7 columns</p>\n",
       "</div>"
      ],
      "text/plain": [
       "                State  Year      Type_code  \\\n",
       "0       A & N Islands  2001         Causes   \n",
       "1       A & N Islands  2001         Causes   \n",
       "2       A & N Islands  2001         Causes   \n",
       "3       A & N Islands  2001         Causes   \n",
       "4       A & N Islands  2001         Causes   \n",
       "...               ...   ...            ...   \n",
       "237514    West Bengal  2012  Social_Status   \n",
       "237515    West Bengal  2012  Social_Status   \n",
       "237516    West Bengal  2012  Social_Status   \n",
       "237517    West Bengal  2012  Social_Status   \n",
       "237518    West Bengal  2012  Social_Status   \n",
       "\n",
       "                                           Type  Gender Age_group  Total  \n",
       "0                            Illness (Aids/STD)  Female      0-14      0  \n",
       "1       Bankruptcy or Sudden change in Economic  Female      0-14      0  \n",
       "2       Cancellation/Non-Settlement of Marriage  Female      0-14      0  \n",
       "3             Physical Abuse (Rape/Incest Etc.)  Female      0-14      0  \n",
       "4                                 Dowry Dispute  Female      0-14      0  \n",
       "...                                         ...     ...       ...    ...  \n",
       "237514                                Seperated    Male    0-100+    149  \n",
       "237515                          Widowed/Widower    Male    0-100+    233  \n",
       "237516                                  Married    Male    0-100+   5451  \n",
       "237517                                 Divorcee    Male    0-100+    189  \n",
       "237518                            Never Married    Male    0-100+   2658  \n",
       "\n",
       "[237519 rows x 7 columns]"
      ]
     },
     "execution_count": 4,
     "metadata": {},
     "output_type": "execute_result"
    }
   ],
   "source": [
    "suicide_df"
   ]
  },
  {
   "cell_type": "code",
   "execution_count": 5,
   "id": "50729342",
   "metadata": {},
   "outputs": [
    {
     "data": {
      "text/html": [
       "<div>\n",
       "<style scoped>\n",
       "    .dataframe tbody tr th:only-of-type {\n",
       "        vertical-align: middle;\n",
       "    }\n",
       "\n",
       "    .dataframe tbody tr th {\n",
       "        vertical-align: top;\n",
       "    }\n",
       "\n",
       "    .dataframe thead th {\n",
       "        text-align: right;\n",
       "    }\n",
       "</style>\n",
       "<table border=\"1\" class=\"dataframe\">\n",
       "  <thead>\n",
       "    <tr style=\"text-align: right;\">\n",
       "      <th></th>\n",
       "      <th>State</th>\n",
       "      <th>Year</th>\n",
       "      <th>Type_code</th>\n",
       "      <th>Type</th>\n",
       "      <th>Gender</th>\n",
       "      <th>Age_group</th>\n",
       "      <th>Total</th>\n",
       "    </tr>\n",
       "  </thead>\n",
       "  <tbody>\n",
       "    <tr>\n",
       "      <th>0</th>\n",
       "      <td>A &amp; N Islands</td>\n",
       "      <td>2001</td>\n",
       "      <td>Causes</td>\n",
       "      <td>Illness (Aids/STD)</td>\n",
       "      <td>Female</td>\n",
       "      <td>0-14</td>\n",
       "      <td>0</td>\n",
       "    </tr>\n",
       "    <tr>\n",
       "      <th>1</th>\n",
       "      <td>A &amp; N Islands</td>\n",
       "      <td>2001</td>\n",
       "      <td>Causes</td>\n",
       "      <td>Bankruptcy or Sudden change in Economic</td>\n",
       "      <td>Female</td>\n",
       "      <td>0-14</td>\n",
       "      <td>0</td>\n",
       "    </tr>\n",
       "    <tr>\n",
       "      <th>2</th>\n",
       "      <td>A &amp; N Islands</td>\n",
       "      <td>2001</td>\n",
       "      <td>Causes</td>\n",
       "      <td>Cancellation/Non-Settlement of Marriage</td>\n",
       "      <td>Female</td>\n",
       "      <td>0-14</td>\n",
       "      <td>0</td>\n",
       "    </tr>\n",
       "    <tr>\n",
       "      <th>3</th>\n",
       "      <td>A &amp; N Islands</td>\n",
       "      <td>2001</td>\n",
       "      <td>Causes</td>\n",
       "      <td>Physical Abuse (Rape/Incest Etc.)</td>\n",
       "      <td>Female</td>\n",
       "      <td>0-14</td>\n",
       "      <td>0</td>\n",
       "    </tr>\n",
       "    <tr>\n",
       "      <th>4</th>\n",
       "      <td>A &amp; N Islands</td>\n",
       "      <td>2001</td>\n",
       "      <td>Causes</td>\n",
       "      <td>Dowry Dispute</td>\n",
       "      <td>Female</td>\n",
       "      <td>0-14</td>\n",
       "      <td>0</td>\n",
       "    </tr>\n",
       "  </tbody>\n",
       "</table>\n",
       "</div>"
      ],
      "text/plain": [
       "           State  Year Type_code                                     Type  \\\n",
       "0  A & N Islands  2001    Causes                       Illness (Aids/STD)   \n",
       "1  A & N Islands  2001    Causes  Bankruptcy or Sudden change in Economic   \n",
       "2  A & N Islands  2001    Causes  Cancellation/Non-Settlement of Marriage   \n",
       "3  A & N Islands  2001    Causes        Physical Abuse (Rape/Incest Etc.)   \n",
       "4  A & N Islands  2001    Causes                            Dowry Dispute   \n",
       "\n",
       "   Gender Age_group  Total  \n",
       "0  Female      0-14      0  \n",
       "1  Female      0-14      0  \n",
       "2  Female      0-14      0  \n",
       "3  Female      0-14      0  \n",
       "4  Female      0-14      0  "
      ]
     },
     "execution_count": 5,
     "metadata": {},
     "output_type": "execute_result"
    }
   ],
   "source": [
    "suicide_df.head()"
   ]
  },
  {
   "cell_type": "code",
   "execution_count": 6,
   "id": "608af1a5",
   "metadata": {},
   "outputs": [
    {
     "name": "stdout",
     "output_type": "stream",
     "text": [
      "<class 'pandas.core.frame.DataFrame'>\n",
      "RangeIndex: 237519 entries, 0 to 237518\n",
      "Data columns (total 7 columns):\n",
      " #   Column     Non-Null Count   Dtype \n",
      "---  ------     --------------   ----- \n",
      " 0   State      237519 non-null  object\n",
      " 1   Year       237519 non-null  int64 \n",
      " 2   Type_code  237519 non-null  object\n",
      " 3   Type       237519 non-null  object\n",
      " 4   Gender     237519 non-null  object\n",
      " 5   Age_group  237519 non-null  object\n",
      " 6   Total      237519 non-null  int64 \n",
      "dtypes: int64(2), object(5)\n",
      "memory usage: 12.7+ MB\n"
     ]
    }
   ],
   "source": [
    "suicide_df.info()"
   ]
  },
  {
   "cell_type": "code",
   "execution_count": 7,
   "id": "bc7443b1",
   "metadata": {},
   "outputs": [
    {
     "data": {
      "text/plain": [
       "State        0\n",
       "Year         0\n",
       "Type_code    0\n",
       "Type         0\n",
       "Gender       0\n",
       "Age_group    0\n",
       "Total        0\n",
       "dtype: int64"
      ]
     },
     "execution_count": 7,
     "metadata": {},
     "output_type": "execute_result"
    }
   ],
   "source": [
    "#suicide_df.isnull().sum().sum()  #returns the number of missing values in the dataset.\n",
    "suicide_df.isnull().sum()"
   ]
  },
  {
   "cell_type": "code",
   "execution_count": 8,
   "id": "7b719ff4",
   "metadata": {},
   "outputs": [
    {
     "data": {
      "text/plain": [
       "Index(['State', 'Year', 'Type_code', 'Type', 'Gender', 'Age_group', 'Total'], dtype='object')"
      ]
     },
     "execution_count": 8,
     "metadata": {},
     "output_type": "execute_result"
    }
   ],
   "source": [
    "suicide_df.columns"
   ]
  },
  {
   "cell_type": "code",
   "execution_count": 9,
   "id": "74d172c2",
   "metadata": {},
   "outputs": [
    {
     "data": {
      "text/plain": [
       "count    237519.000000\n",
       "mean       2006.500448\n",
       "std           3.452240\n",
       "min        2001.000000\n",
       "25%        2004.000000\n",
       "50%        2007.000000\n",
       "75%        2010.000000\n",
       "max        2012.000000\n",
       "Name: Year, dtype: float64"
      ]
     },
     "execution_count": 9,
     "metadata": {},
     "output_type": "execute_result"
    }
   ],
   "source": [
    "suicide_df['Total'].describe()\n",
    "suicide_df['Year'].describe()"
   ]
  },
  {
   "cell_type": "code",
   "execution_count": 10,
   "id": "8c9e308d",
   "metadata": {},
   "outputs": [
    {
     "data": {
      "text/plain": [
       "array(['A & N Islands', 'Andhra Pradesh', 'Arunachal Pradesh', 'Assam',\n",
       "       'Bihar', 'Chandigarh', 'Chhattisgarh', 'D & N Haveli',\n",
       "       'Daman & Diu', 'Delhi (Ut)', 'Goa', 'Gujarat', 'Haryana',\n",
       "       'Himachal Pradesh', 'Jammu & Kashmir', 'Jharkhand', 'Karnataka',\n",
       "       'Kerala', 'Lakshadweep', 'Madhya Pradesh', 'Maharashtra',\n",
       "       'Manipur', 'Meghalaya', 'Mizoram', 'Nagaland', 'Odisha',\n",
       "       'Puducherry', 'Punjab', 'Rajasthan', 'Sikkim', 'Tamil Nadu',\n",
       "       'Total (All India)', 'Total (States)', 'Total (Uts)', 'Tripura',\n",
       "       'Uttar Pradesh', 'Uttarakhand', 'West Bengal'], dtype=object)"
      ]
     },
     "execution_count": 10,
     "metadata": {},
     "output_type": "execute_result"
    }
   ],
   "source": [
    "suicide_df['State'].unique()"
   ]
  },
  {
   "cell_type": "code",
   "execution_count": 11,
   "id": "280e39fd",
   "metadata": {},
   "outputs": [
    {
     "data": {
      "text/plain": [
       "array([2001, 2002, 2003, 2004, 2005, 2006, 2007, 2008, 2009, 2010, 2011,\n",
       "       2012], dtype=int64)"
      ]
     },
     "execution_count": 11,
     "metadata": {},
     "output_type": "execute_result"
    }
   ],
   "source": [
    "suicide_df['Year'].unique()"
   ]
  },
  {
   "cell_type": "code",
   "execution_count": 12,
   "id": "2607508c",
   "metadata": {},
   "outputs": [
    {
     "data": {
      "text/plain": [
       "array(['Causes', 'Education_Status', 'Means_adopted',\n",
       "       'Professional_Profile', 'Social_Status'], dtype=object)"
      ]
     },
     "execution_count": 12,
     "metadata": {},
     "output_type": "execute_result"
    }
   ],
   "source": [
    "suicide_df['Type_code'].unique()"
   ]
  },
  {
   "cell_type": "code",
   "execution_count": 13,
   "id": "ea906eb7",
   "metadata": {},
   "outputs": [
    {
     "data": {
      "text/plain": [
       "array(['Illness (Aids/STD)', 'Bankruptcy or Sudden change in Economic',\n",
       "       'Cancellation/Non-Settlement of Marriage',\n",
       "       'Physical Abuse (Rape/Incest Etc.)', 'Dowry Dispute',\n",
       "       'Family Problems', 'Ideological Causes/Hero Worshipping',\n",
       "       'Other Prolonged Illness', 'Property Dispute',\n",
       "       'Fall in Social Reputation', 'Illegitimate Pregnancy',\n",
       "       'Failure in Examination', 'Insanity/Mental Illness',\n",
       "       'Love Affairs', 'Professional/Career Problem', 'Divorce',\n",
       "       'Drug Abuse/Addiction', 'Not having Children(Barrenness/Impotency',\n",
       "       'Causes Not known', 'Unemployment',\n",
       "       'Other Causes (Please Specity)', 'Poverty', 'Death of Dear Person',\n",
       "       'Cancer', 'Suspected/Illicit Relation', 'Paralysis', 'Diploma',\n",
       "       'No Education', 'Post Graduate and Above', 'Middle', 'Graduate',\n",
       "       'Hr. Secondary/Intermediate/Pre-Universit', 'Primary',\n",
       "       'Matriculate/Secondary', 'By Consuming Insecticides', 'By Hanging',\n",
       "       'By Jumping from (Other sites)', 'By touching electric wires',\n",
       "       'By Machine', 'By Fire/Self Immolation',\n",
       "       'By Jumping off Moving Vehicles/Trains',\n",
       "       'By Other means (please specify)', 'By Self Infliction of injury',\n",
       "       'By Over Alcoholism', 'By Consuming Other Poison',\n",
       "       'By coming under running vehicles/trains',\n",
       "       'By Overdose of sleeping pills', 'By Jumping from (Building)',\n",
       "       'By Drowning', 'By Fire-Arms', 'Retired Person', 'Unemployed',\n",
       "       'Public Sector Undertaking', 'Service (Private)', 'House Wife',\n",
       "       'Self-employed (Business activity)', 'Professional Activity',\n",
       "       'Student', 'Others (Please Specify)',\n",
       "       'Farming/Agriculture Activity', 'Service (Government)', 'Married',\n",
       "       'Seperated', 'Widowed/Widower', 'Divorcee', 'Never Married',\n",
       "       'Bankruptcy or Sudden change in Economic Status',\n",
       "       'Not having Children (Barrenness/Impotency', 'By Other means'],\n",
       "      dtype=object)"
      ]
     },
     "execution_count": 13,
     "metadata": {},
     "output_type": "execute_result"
    }
   ],
   "source": [
    "suicide_df['Type'].unique()"
   ]
  },
  {
   "cell_type": "code",
   "execution_count": 14,
   "id": "07c6563b",
   "metadata": {},
   "outputs": [
    {
     "data": {
      "text/plain": [
       "array(['Female', 'Male'], dtype=object)"
      ]
     },
     "execution_count": 14,
     "metadata": {},
     "output_type": "execute_result"
    }
   ],
   "source": [
    "suicide_df['Gender'].unique()"
   ]
  },
  {
   "cell_type": "code",
   "execution_count": 15,
   "id": "ef63fbc4",
   "metadata": {},
   "outputs": [
    {
     "data": {
      "text/plain": [
       "array(['0-14', '15-29', '30-44', '45-59', '60+', '0-100+'], dtype=object)"
      ]
     },
     "execution_count": 15,
     "metadata": {},
     "output_type": "execute_result"
    }
   ],
   "source": [
    "suicide_df['Age_group'].unique()"
   ]
  },
  {
   "cell_type": "code",
   "execution_count": 16,
   "id": "493504b4",
   "metadata": {},
   "outputs": [],
   "source": [
    "#Removing the values from the column 'State' and making new dataframe, 'statewise_df'\n",
    "\n",
    "statewise_df = suicide_df.drop(suicide_df[(suicide_df.State == 'Total (Uts)') | (suicide_df.State == 'Total (All India)') | \n",
    "               (suicide_df.State == 'Total (States)')].index)"
   ]
  },
  {
   "cell_type": "code",
   "execution_count": 17,
   "id": "9f61925b",
   "metadata": {},
   "outputs": [
    {
     "data": {
      "text/plain": [
       "135481"
      ]
     },
     "execution_count": 17,
     "metadata": {},
     "output_type": "execute_result"
    }
   ],
   "source": [
    "len(suicide_df[suicide_df['Total'] == 0])"
   ]
  },
  {
   "cell_type": "code",
   "execution_count": 18,
   "id": "34a76fe8",
   "metadata": {},
   "outputs": [
    {
     "data": {
      "text/plain": [
       "0          True\n",
       "1          True\n",
       "2          True\n",
       "3          True\n",
       "4          True\n",
       "          ...  \n",
       "237514    False\n",
       "237515    False\n",
       "237516    False\n",
       "237517    False\n",
       "237518    False\n",
       "Name: Total, Length: 237519, dtype: bool"
      ]
     },
     "execution_count": 18,
     "metadata": {},
     "output_type": "execute_result"
    }
   ],
   "source": [
    "suicide_df['Total'] == 0"
   ]
  },
  {
   "cell_type": "code",
   "execution_count": 19,
   "id": "c85f0c25",
   "metadata": {},
   "outputs": [
    {
     "data": {
      "text/plain": [
       "135473"
      ]
     },
     "execution_count": 19,
     "metadata": {},
     "output_type": "execute_result"
    }
   ],
   "source": [
    "len(statewise_df[statewise_df['Total'] == 0])"
   ]
  },
  {
   "cell_type": "code",
   "execution_count": 20,
   "id": "25a42ad3",
   "metadata": {},
   "outputs": [],
   "source": [
    "#Removing the row which has total number of suicide equal to zero\n",
    "statewise_df = statewise_df.drop(statewise_df[statewise_df['Total'] == 0].index)"
   ]
  },
  {
   "cell_type": "code",
   "execution_count": 21,
   "id": "1babed8f",
   "metadata": {},
   "outputs": [
    {
     "data": {
      "text/plain": [
       "0"
      ]
     },
     "execution_count": 21,
     "metadata": {},
     "output_type": "execute_result"
    }
   ],
   "source": [
    "len(statewise_df[statewise_df['Total'] == 0])"
   ]
  },
  {
   "cell_type": "code",
   "execution_count": 22,
   "id": "eb1ae2a1",
   "metadata": {},
   "outputs": [
    {
     "data": {
      "text/plain": [
       "array(['A & N Islands', 'Andhra Pradesh', 'Arunachal Pradesh', 'Assam',\n",
       "       'Bihar', 'Chandigarh', 'Chhattisgarh', 'D & N Haveli',\n",
       "       'Daman & Diu', 'Delhi (Ut)', 'Goa', 'Gujarat', 'Haryana',\n",
       "       'Himachal Pradesh', 'Jammu & Kashmir', 'Jharkhand', 'Karnataka',\n",
       "       'Kerala', 'Lakshadweep', 'Madhya Pradesh', 'Maharashtra',\n",
       "       'Manipur', 'Meghalaya', 'Mizoram', 'Nagaland', 'Odisha',\n",
       "       'Puducherry', 'Punjab', 'Rajasthan', 'Sikkim', 'Tamil Nadu',\n",
       "       'Tripura', 'Uttar Pradesh', 'Uttarakhand', 'West Bengal'],\n",
       "      dtype=object)"
      ]
     },
     "execution_count": 22,
     "metadata": {},
     "output_type": "execute_result"
    }
   ],
   "source": [
    "statewise_df['State'].unique()"
   ]
  },
  {
   "cell_type": "code",
   "execution_count": 23,
   "id": "dbe81888",
   "metadata": {},
   "outputs": [],
   "source": [
    "#Renaming the 'Type' which has almost same meaning\n",
    "statewise_df.replace('Bankruptcy or Sudden change in Economic', \n",
    "           'Bankruptcy or Sudden change in Economic Status', inplace=True)\n",
    "statewise_df.replace('By Other means (please specify)', 'By Other means', inplace=True)\n",
    "statewise_df.replace('Not having Children(Barrenness/Impotency',\n",
    "           'Not having Children (Barrenness/Impotency)', inplace=True)"
   ]
  },
  {
   "cell_type": "code",
   "execution_count": 24,
   "id": "31f6fb08",
   "metadata": {},
   "outputs": [
    {
     "data": {
      "text/html": [
       "<div>\n",
       "<style scoped>\n",
       "    .dataframe tbody tr th:only-of-type {\n",
       "        vertical-align: middle;\n",
       "    }\n",
       "\n",
       "    .dataframe tbody tr th {\n",
       "        vertical-align: top;\n",
       "    }\n",
       "\n",
       "    .dataframe thead th {\n",
       "        text-align: right;\n",
       "    }\n",
       "</style>\n",
       "<table border=\"1\" class=\"dataframe\">\n",
       "  <thead>\n",
       "    <tr style=\"text-align: right;\">\n",
       "      <th></th>\n",
       "      <th>State</th>\n",
       "      <th>Year</th>\n",
       "      <th>Type_code</th>\n",
       "      <th>Type</th>\n",
       "      <th>Gender</th>\n",
       "      <th>Age_group</th>\n",
       "      <th>Total</th>\n",
       "    </tr>\n",
       "  </thead>\n",
       "  <tbody>\n",
       "    <tr>\n",
       "      <th>13</th>\n",
       "      <td>A &amp; N Islands</td>\n",
       "      <td>2001</td>\n",
       "      <td>Causes</td>\n",
       "      <td>Love Affairs</td>\n",
       "      <td>Female</td>\n",
       "      <td>0-14</td>\n",
       "      <td>1</td>\n",
       "    </tr>\n",
       "    <tr>\n",
       "      <th>20</th>\n",
       "      <td>A &amp; N Islands</td>\n",
       "      <td>2001</td>\n",
       "      <td>Causes</td>\n",
       "      <td>Other Causes (Please Specity)</td>\n",
       "      <td>Female</td>\n",
       "      <td>0-14</td>\n",
       "      <td>1</td>\n",
       "    </tr>\n",
       "    <tr>\n",
       "      <th>32</th>\n",
       "      <td>A &amp; N Islands</td>\n",
       "      <td>2001</td>\n",
       "      <td>Causes</td>\n",
       "      <td>Other Prolonged Illness</td>\n",
       "      <td>Male</td>\n",
       "      <td>0-14</td>\n",
       "      <td>1</td>\n",
       "    </tr>\n",
       "    <tr>\n",
       "      <th>47</th>\n",
       "      <td>A &amp; N Islands</td>\n",
       "      <td>2001</td>\n",
       "      <td>Causes</td>\n",
       "      <td>Failure in Examination</td>\n",
       "      <td>Male</td>\n",
       "      <td>0-14</td>\n",
       "      <td>1</td>\n",
       "    </tr>\n",
       "    <tr>\n",
       "      <th>54</th>\n",
       "      <td>A &amp; N Islands</td>\n",
       "      <td>2001</td>\n",
       "      <td>Causes</td>\n",
       "      <td>Other Prolonged Illness</td>\n",
       "      <td>Female</td>\n",
       "      <td>15-29</td>\n",
       "      <td>8</td>\n",
       "    </tr>\n",
       "    <tr>\n",
       "      <th>...</th>\n",
       "      <td>...</td>\n",
       "      <td>...</td>\n",
       "      <td>...</td>\n",
       "      <td>...</td>\n",
       "      <td>...</td>\n",
       "      <td>...</td>\n",
       "      <td>...</td>\n",
       "    </tr>\n",
       "    <tr>\n",
       "      <th>237514</th>\n",
       "      <td>West Bengal</td>\n",
       "      <td>2012</td>\n",
       "      <td>Social_Status</td>\n",
       "      <td>Seperated</td>\n",
       "      <td>Male</td>\n",
       "      <td>0-100+</td>\n",
       "      <td>149</td>\n",
       "    </tr>\n",
       "    <tr>\n",
       "      <th>237515</th>\n",
       "      <td>West Bengal</td>\n",
       "      <td>2012</td>\n",
       "      <td>Social_Status</td>\n",
       "      <td>Widowed/Widower</td>\n",
       "      <td>Male</td>\n",
       "      <td>0-100+</td>\n",
       "      <td>233</td>\n",
       "    </tr>\n",
       "    <tr>\n",
       "      <th>237516</th>\n",
       "      <td>West Bengal</td>\n",
       "      <td>2012</td>\n",
       "      <td>Social_Status</td>\n",
       "      <td>Married</td>\n",
       "      <td>Male</td>\n",
       "      <td>0-100+</td>\n",
       "      <td>5451</td>\n",
       "    </tr>\n",
       "    <tr>\n",
       "      <th>237517</th>\n",
       "      <td>West Bengal</td>\n",
       "      <td>2012</td>\n",
       "      <td>Social_Status</td>\n",
       "      <td>Divorcee</td>\n",
       "      <td>Male</td>\n",
       "      <td>0-100+</td>\n",
       "      <td>189</td>\n",
       "    </tr>\n",
       "    <tr>\n",
       "      <th>237518</th>\n",
       "      <td>West Bengal</td>\n",
       "      <td>2012</td>\n",
       "      <td>Social_Status</td>\n",
       "      <td>Never Married</td>\n",
       "      <td>Male</td>\n",
       "      <td>0-100+</td>\n",
       "      <td>2658</td>\n",
       "    </tr>\n",
       "  </tbody>\n",
       "</table>\n",
       "<p>101110 rows × 7 columns</p>\n",
       "</div>"
      ],
      "text/plain": [
       "                State  Year      Type_code                           Type  \\\n",
       "13      A & N Islands  2001         Causes                   Love Affairs   \n",
       "20      A & N Islands  2001         Causes  Other Causes (Please Specity)   \n",
       "32      A & N Islands  2001         Causes        Other Prolonged Illness   \n",
       "47      A & N Islands  2001         Causes         Failure in Examination   \n",
       "54      A & N Islands  2001         Causes        Other Prolonged Illness   \n",
       "...               ...   ...            ...                            ...   \n",
       "237514    West Bengal  2012  Social_Status                      Seperated   \n",
       "237515    West Bengal  2012  Social_Status                Widowed/Widower   \n",
       "237516    West Bengal  2012  Social_Status                        Married   \n",
       "237517    West Bengal  2012  Social_Status                       Divorcee   \n",
       "237518    West Bengal  2012  Social_Status                  Never Married   \n",
       "\n",
       "        Gender Age_group  Total  \n",
       "13      Female      0-14      1  \n",
       "20      Female      0-14      1  \n",
       "32        Male      0-14      1  \n",
       "47        Male      0-14      1  \n",
       "54      Female     15-29      8  \n",
       "...        ...       ...    ...  \n",
       "237514    Male    0-100+    149  \n",
       "237515    Male    0-100+    233  \n",
       "237516    Male    0-100+   5451  \n",
       "237517    Male    0-100+    189  \n",
       "237518    Male    0-100+   2658  \n",
       "\n",
       "[101110 rows x 7 columns]"
      ]
     },
     "execution_count": 24,
     "metadata": {},
     "output_type": "execute_result"
    }
   ],
   "source": [
    "statewise_df"
   ]
  },
  {
   "cell_type": "code",
   "execution_count": 25,
   "id": "5afa38dd",
   "metadata": {},
   "outputs": [
    {
     "data": {
      "text/html": [
       "<div>\n",
       "<style scoped>\n",
       "    .dataframe tbody tr th:only-of-type {\n",
       "        vertical-align: middle;\n",
       "    }\n",
       "\n",
       "    .dataframe tbody tr th {\n",
       "        vertical-align: top;\n",
       "    }\n",
       "\n",
       "    .dataframe thead th {\n",
       "        text-align: right;\n",
       "    }\n",
       "</style>\n",
       "<table border=\"1\" class=\"dataframe\">\n",
       "  <thead>\n",
       "    <tr style=\"text-align: right;\">\n",
       "      <th></th>\n",
       "      <th>State</th>\n",
       "      <th>Year</th>\n",
       "      <th>Type_code</th>\n",
       "      <th>Type</th>\n",
       "      <th>Gender</th>\n",
       "      <th>Age_group</th>\n",
       "      <th>Total</th>\n",
       "    </tr>\n",
       "  </thead>\n",
       "  <tbody>\n",
       "    <tr>\n",
       "      <th>0</th>\n",
       "      <td>A &amp; N Islands</td>\n",
       "      <td>2001</td>\n",
       "      <td>Causes</td>\n",
       "      <td>Love Affairs</td>\n",
       "      <td>Female</td>\n",
       "      <td>0-14</td>\n",
       "      <td>1</td>\n",
       "    </tr>\n",
       "    <tr>\n",
       "      <th>1</th>\n",
       "      <td>A &amp; N Islands</td>\n",
       "      <td>2001</td>\n",
       "      <td>Causes</td>\n",
       "      <td>Other Causes (Please Specity)</td>\n",
       "      <td>Female</td>\n",
       "      <td>0-14</td>\n",
       "      <td>1</td>\n",
       "    </tr>\n",
       "    <tr>\n",
       "      <th>2</th>\n",
       "      <td>A &amp; N Islands</td>\n",
       "      <td>2001</td>\n",
       "      <td>Causes</td>\n",
       "      <td>Other Prolonged Illness</td>\n",
       "      <td>Male</td>\n",
       "      <td>0-14</td>\n",
       "      <td>1</td>\n",
       "    </tr>\n",
       "    <tr>\n",
       "      <th>3</th>\n",
       "      <td>A &amp; N Islands</td>\n",
       "      <td>2001</td>\n",
       "      <td>Causes</td>\n",
       "      <td>Failure in Examination</td>\n",
       "      <td>Male</td>\n",
       "      <td>0-14</td>\n",
       "      <td>1</td>\n",
       "    </tr>\n",
       "    <tr>\n",
       "      <th>4</th>\n",
       "      <td>A &amp; N Islands</td>\n",
       "      <td>2001</td>\n",
       "      <td>Causes</td>\n",
       "      <td>Other Prolonged Illness</td>\n",
       "      <td>Female</td>\n",
       "      <td>15-29</td>\n",
       "      <td>8</td>\n",
       "    </tr>\n",
       "    <tr>\n",
       "      <th>...</th>\n",
       "      <td>...</td>\n",
       "      <td>...</td>\n",
       "      <td>...</td>\n",
       "      <td>...</td>\n",
       "      <td>...</td>\n",
       "      <td>...</td>\n",
       "      <td>...</td>\n",
       "    </tr>\n",
       "    <tr>\n",
       "      <th>101105</th>\n",
       "      <td>West Bengal</td>\n",
       "      <td>2012</td>\n",
       "      <td>Social_Status</td>\n",
       "      <td>Seperated</td>\n",
       "      <td>Male</td>\n",
       "      <td>0-100+</td>\n",
       "      <td>149</td>\n",
       "    </tr>\n",
       "    <tr>\n",
       "      <th>101106</th>\n",
       "      <td>West Bengal</td>\n",
       "      <td>2012</td>\n",
       "      <td>Social_Status</td>\n",
       "      <td>Widowed/Widower</td>\n",
       "      <td>Male</td>\n",
       "      <td>0-100+</td>\n",
       "      <td>233</td>\n",
       "    </tr>\n",
       "    <tr>\n",
       "      <th>101107</th>\n",
       "      <td>West Bengal</td>\n",
       "      <td>2012</td>\n",
       "      <td>Social_Status</td>\n",
       "      <td>Married</td>\n",
       "      <td>Male</td>\n",
       "      <td>0-100+</td>\n",
       "      <td>5451</td>\n",
       "    </tr>\n",
       "    <tr>\n",
       "      <th>101108</th>\n",
       "      <td>West Bengal</td>\n",
       "      <td>2012</td>\n",
       "      <td>Social_Status</td>\n",
       "      <td>Divorcee</td>\n",
       "      <td>Male</td>\n",
       "      <td>0-100+</td>\n",
       "      <td>189</td>\n",
       "    </tr>\n",
       "    <tr>\n",
       "      <th>101109</th>\n",
       "      <td>West Bengal</td>\n",
       "      <td>2012</td>\n",
       "      <td>Social_Status</td>\n",
       "      <td>Never Married</td>\n",
       "      <td>Male</td>\n",
       "      <td>0-100+</td>\n",
       "      <td>2658</td>\n",
       "    </tr>\n",
       "  </tbody>\n",
       "</table>\n",
       "<p>101110 rows × 7 columns</p>\n",
       "</div>"
      ],
      "text/plain": [
       "                State  Year      Type_code                           Type  \\\n",
       "0       A & N Islands  2001         Causes                   Love Affairs   \n",
       "1       A & N Islands  2001         Causes  Other Causes (Please Specity)   \n",
       "2       A & N Islands  2001         Causes        Other Prolonged Illness   \n",
       "3       A & N Islands  2001         Causes         Failure in Examination   \n",
       "4       A & N Islands  2001         Causes        Other Prolonged Illness   \n",
       "...               ...   ...            ...                            ...   \n",
       "101105    West Bengal  2012  Social_Status                      Seperated   \n",
       "101106    West Bengal  2012  Social_Status                Widowed/Widower   \n",
       "101107    West Bengal  2012  Social_Status                        Married   \n",
       "101108    West Bengal  2012  Social_Status                       Divorcee   \n",
       "101109    West Bengal  2012  Social_Status                  Never Married   \n",
       "\n",
       "        Gender Age_group  Total  \n",
       "0       Female      0-14      1  \n",
       "1       Female      0-14      1  \n",
       "2         Male      0-14      1  \n",
       "3         Male      0-14      1  \n",
       "4       Female     15-29      8  \n",
       "...        ...       ...    ...  \n",
       "101105    Male    0-100+    149  \n",
       "101106    Male    0-100+    233  \n",
       "101107    Male    0-100+   5451  \n",
       "101108    Male    0-100+    189  \n",
       "101109    Male    0-100+   2658  \n",
       "\n",
       "[101110 rows x 7 columns]"
      ]
     },
     "execution_count": 25,
     "metadata": {},
     "output_type": "execute_result"
    }
   ],
   "source": [
    "statewise_df = statewise_df.set_index(pd.Index([i for i in range(0,101110)]))\n",
    "statewise_df"
   ]
  },
  {
   "cell_type": "markdown",
   "id": "25922e63",
   "metadata": {},
   "source": [
    "# Exploratory Analysis and Visualization\n",
    "\n",
    "In this section we will explore the data through the analysis and visualization. we will try to deduce the causes, try to know the social and educational background and also the age group of the people who has committed suicides.\n"
   ]
  },
  {
   "cell_type": "code",
   "execution_count": 27,
   "id": "82aeda3e",
   "metadata": {},
   "outputs": [],
   "source": [
    "import seaborn as sns  #https://seaborn.pydata.org/generated/seaborn.set_style.html\n",
    "import matplotlib\n",
    "import matplotlib.pyplot as plt\n",
    "%matplotlib inline\n",
    "\n",
    "sns.set_style('darkgrid')\n",
    "#We use rc i.e a runtime configuration (rc) containing the default styles for every plot element you create\n",
    "matplotlib.rcParams['font.size'] = 12\n",
    "matplotlib.rcParams['figure.figsize'] = (9, 5)\n",
    "matplotlib.rcParams['figure.facecolor'] = '#00000000'"
   ]
  },
  {
   "cell_type": "markdown",
   "id": "6959f11f",
   "metadata": {},
   "source": [
    "### Yearwise Total Number Of Deaths\n",
    "\n",
    "Let's check the number of suicides according to the year."
   ]
  },
  {
   "cell_type": "code",
   "execution_count": 27,
   "id": "de424887",
   "metadata": {},
   "outputs": [
    {
     "name": "stdout",
     "output_type": "stream",
     "text": [
      "Total number of suicides in each year:  Year\n",
      "2001    542440\n",
      "2002    551980\n",
      "2003    554218\n",
      "2004    568349\n",
      "2005    569545\n",
      "2006    590543\n",
      "2007    613119\n",
      "2008    625014\n",
      "2009    635429\n",
      "2010    672926\n",
      "2011    677159\n",
      "2012    647288\n",
      "Name: Total, dtype: int64\n"
     ]
    },
    {
     "data": {
      "image/png": "[encoded data removed]",
      "text/plain": [
       "<Figure size 648x360 with 1 Axes>"
      ]
     },
     "metadata": {
      "needs_background": "light"
     },
     "output_type": "display_data"
    }
   ],
   "source": [
    "#Creating a series of total suicides according to year\n",
    "\n",
    "yearwise_total_suicide = statewise_df.groupby(\"Year\")[\"Total\"].sum()\n",
    "print('Total number of suicides in each year: ', yearwise_total_suicide)\n",
    "\n",
    "#plotting this in a line graph\n",
    "yearwise_total_suicide.plot(kind=\"line\", figsize = (9,5), color = 'r')\n",
    "plt.title('Yearwise Total Suicides')\n",
    "plt.xlabel('Year')\n",
    "plt.ylabel('Number of suicides');"
   ]
  },
  {
   "cell_type": "markdown",
   "id": "c92c0f88",
   "metadata": {},
   "source": [
    "### Statewise Number Of Suicides\n",
    "\n",
    "Here we will see which state has highest number of suicide and also visualize this data on a graph"
   ]
  },
  {
   "cell_type": "code",
   "execution_count": 28,
   "id": "33134867",
   "metadata": {},
   "outputs": [
    {
     "name": "stdout",
     "output_type": "stream",
     "text": [
      "Total number of suicides in each State :  State\n",
      "A & N Islands          8109\n",
      "Andhra Pradesh       814059\n",
      "Arunachal Pradesh      6633\n",
      "Assam                172276\n",
      "Bihar                 46214\n",
      "Chandigarh             5164\n",
      "Chhattisgarh         302354\n",
      "D & N Haveli           3430\n",
      "Daman & Diu            1391\n",
      "Delhi (Ut)            84272\n",
      "Goa                   17363\n",
      "Gujarat              330858\n",
      "Haryana              147176\n",
      "Himachal Pradesh      26562\n",
      "Jammu & Kashmir       14821\n",
      "Jharkhand             49720\n",
      "Karnataka            734825\n",
      "Kerala               538946\n",
      "Lakshadweep              50\n",
      "Madhya Pradesh       451535\n",
      "Maharashtra          901945\n",
      "Manipur                2102\n",
      "Meghalaya              5415\n",
      "Mizoram                4154\n",
      "Nagaland               1728\n",
      "Odisha               267234\n",
      "Puducherry            32144\n",
      "Punjab                46350\n",
      "Rajasthan            255134\n",
      "Sikkim                 9606\n",
      "Tamil Nadu           818691\n",
      "Tripura               45965\n",
      "Uttar Pradesh        233352\n",
      "Uttarakhand           18496\n",
      "West Bengal          849936\n",
      "Name: Total, dtype: int64\n"
     ]
    },
    {
     "data": {
      "image/png": "[encoded data removed]",
      "text/plain": [
       "<Figure size 1080x288 with 1 Axes>"
      ]
     },
     "metadata": {
      "needs_background": "light"
     },
     "output_type": "display_data"
    }
   ],
   "source": [
    "#Creating a series of total suicides on the basis of states\n",
    "statewise_total_suicide = statewise_df.groupby(\"State\")[\"Total\"].sum()\n",
    "print('Total number of suicides in each State : ', statewise_total_suicide)\n",
    "\n",
    "#plotting the above data\n",
    "filter_state = pd.DataFrame(statewise_total_suicide.reset_index()) \n",
    "sort_state = filter_state.sort_values('Total',ascending = True)\n",
    "f, ax = plt.subplots(figsize=(15, 4))\n",
    "#sns.barplot(y = 'Total', x = 'State',data = sort_state,edgecolor = '0.5')\n",
    "sns.barplot(y = 'Total', x = 'State',data = sort_state)\n",
    "plt.xticks(rotation=75);\n",
    "plt.show()"
   ]
  },
  {
   "cell_type": "markdown",
   "id": "38cf7039",
   "metadata": {},
   "source": [
    "### Suicides According To The Causes In Each Year\n",
    "In this section we will see the causes of the suicides and the number of the suicides due to these causes in year"
   ]
  },
  {
   "cell_type": "code",
   "execution_count": 29,
   "id": "0a5fe028",
   "metadata": {},
   "outputs": [
    {
     "data": {
      "image/png": "[encoded data removed]",
      "text/plain": [
       "<Figure size 789.7x540 with 1 Axes>"
      ]
     },
     "metadata": {
      "needs_background": "light"
     },
     "output_type": "display_data"
    }
   ],
   "source": [
    "#Filtering the data according to 'type_code','Total' and 'Year'\n",
    "filter_type_code = pd.DataFrame(statewise_df.groupby([\"Type_code\",\"Year\"])[\"Total\"].sum()).reset_index()\n",
    "\n",
    "#Plotting the above data\n",
    "sns.catplot(x=\"Type_code\", y=\"Total\",hue=\"Year\", kind=\"bar\", data=filter_type_code,height=7.5, aspect=10/7.5);\n",
    "plt.title('Suicide According To Causes In Each Year');"
   ]
  },
  {
   "cell_type": "markdown",
   "id": "4f6bc3a1",
   "metadata": {},
   "source": [
    "### Suicide According To Gender\n",
    "\n",
    "In this section we will visualize the total nuber of suicides on the basis of the gender of the indvidual"
   ]
  },
  {
   "cell_type": "code",
   "execution_count": 29,
   "id": "ad9abc96",
   "metadata": {},
   "outputs": [
    {
     "name": "stdout",
     "output_type": "stream",
     "text": [
      "Male      54841\n",
      "Female    46269\n",
      "Name: Gender, dtype: int64\n"
     ]
    },
    {
     "data": {
      "image/png": "[encoded data removed]",
      "text/plain": [
       "<Figure size 432x432 with 1 Axes>"
      ]
     },
     "metadata": {},
     "output_type": "display_data"
    }
   ],
   "source": [
    "#Gender Suicide Frequency\n",
    "#counts = statewise_df['Gender'].value_counts().sort_index()\n",
    "counts = statewise_df['Gender'].value_counts()\n",
    "print(counts)\n",
    "\n",
    "# Plot a pie chart\n",
    "counts.plot(kind='pie', title='Suicide by Gender',figsize=(6,6))\n",
    "plt.legend()\n",
    "plt.show()"
   ]
  },
  {
   "cell_type": "markdown",
   "id": "d30ea665",
   "metadata": {},
   "source": [
    "### Suicides By The Educational Background\n",
    "\n",
    "In this section we will see individuals of which educational background have committed suicides more often."
   ]
  },
  {
   "cell_type": "code",
   "execution_count": 30,
   "id": "2600c9b1",
   "metadata": {},
   "outputs": [
    {
     "data": {
      "image/png": "[encoded data removed]",
      "text/plain": [
       "<Figure size 925.6x504 with 1 Axes>"
      ]
     },
     "metadata": {
      "needs_background": "light"
     },
     "output_type": "display_data"
    }
   ],
   "source": [
    "#filtering the data as per the educational background\n",
    "education_status = pd.DataFrame(statewise_df[statewise_df[\"Type_code\"]==\"Education_Status\"].groupby([\"Type\",\"Gender\"])[\"Total\"].sum()).reset_index()\n",
    "education_status\n",
    "\n",
    "#plotting the above data\n",
    "g = sns.catplot(y=\"Type\", x=\"Total\",hue=\"Gender\", kind=\"bar\", data=education_status,height=7, aspect=11.7/7);\n",
    "sns.set_style('whitegrid');  \n"
   ]
  },
  {
   "cell_type": "markdown",
   "id": "e10f7f2a",
   "metadata": {},
   "source": [
    "### Suicides By Social Status\n",
    "\n",
    "In this section we will visualize the suicides according to the social status of the individauls."
   ]
  },
  {
   "cell_type": "code",
   "execution_count": 31,
   "id": "3b6d5ef3",
   "metadata": {},
   "outputs": [
    {
     "data": {
      "image/png": "[encoded data removed]",
      "text/plain": [
       "<Figure size 925.6x504 with 1 Axes>"
      ]
     },
     "metadata": {},
     "output_type": "display_data"
    }
   ],
   "source": [
    "#filtering data according to the social status\n",
    "filter_social_status = pd.DataFrame(statewise_df[statewise_df[\"Type_code\"]==\"Social_Status\"].groupby([\"Type\",\"Gender\"])[\"Total\"].sum()).reset_index()\n",
    "\n",
    "#plotting the above data\n",
    "sns.catplot(x=\"Type\", y=\"Total\",hue=\"Gender\", kind=\"bar\", data=filter_social_status,height=7, aspect=11.7/7);"
   ]
  },
  {
   "cell_type": "markdown",
   "id": "2ccbbf00",
   "metadata": {},
   "source": [
    "### Suicides By Age Groups\n",
    "\n",
    "As we have seen in above section that married people have commited more suicides. Now we will try to check this inference through age group column. If the above inference is right then the age group that has committed suicides will fall in between 25 to 50."
   ]
  },
  {
   "cell_type": "code",
   "execution_count": 32,
   "id": "1910046a",
   "metadata": {},
   "outputs": [
    {
     "name": "stdout",
     "output_type": "stream",
     "text": [
      "0-14      9639\n",
      "15-29    24960\n",
      "30-44    24064\n",
      "45-59    19730\n",
      "60+      13766\n",
      "Name: Age_group, dtype: int64\n"
     ]
    },
    {
     "data": {
      "image/png": "[encoded data removed]",
      "text/plain": [
       "<Figure size 504x360 with 1 Axes>"
      ]
     },
     "metadata": {},
     "output_type": "display_data"
    }
   ],
   "source": [
    "#Age Distributiion\n",
    "statewise_Age_df = statewise_df.drop(statewise_df[statewise_df.Age_group == '0-100+'].index)\n",
    "\n",
    "counts = statewise_Age_df['Age_group'].value_counts().sort_index()\n",
    "print(counts)\n",
    "\n",
    "counts.plot(kind='bar', title='Age Distribution',figsize=(7,5))\n",
    "plt.xticks(rotation=0)\n",
    "plt.show()"
   ]
  },
  {
   "cell_type": "markdown",
   "id": "64304c10",
   "metadata": {},
   "source": [
    "Lets try to answer these questions\n",
    "#### Q1: Which state has the most number of suicides?"
   ]
  },
  {
   "cell_type": "code",
   "execution_count": 33,
   "id": "2662bd59",
   "metadata": {},
   "outputs": [
    {
     "name": "stdout",
     "output_type": "stream",
     "text": [
      "The state which has most number of suicides: Maharashtra\n"
     ]
    },
    {
     "data": {
      "text/plain": [
       "State\n",
       "A & N Islands          8109\n",
       "Andhra Pradesh       814059\n",
       "Arunachal Pradesh      6633\n",
       "Assam                172276\n",
       "Bihar                 46214\n",
       "Chandigarh             5164\n",
       "Chhattisgarh         302354\n",
       "D & N Haveli           3430\n",
       "Daman & Diu            1391\n",
       "Delhi (Ut)            84272\n",
       "Goa                   17363\n",
       "Gujarat              330858\n",
       "Haryana              147176\n",
       "Himachal Pradesh      26562\n",
       "Jammu & Kashmir       14821\n",
       "Jharkhand             49720\n",
       "Karnataka            734825\n",
       "Kerala               538946\n",
       "Lakshadweep              50\n",
       "Madhya Pradesh       451535\n",
       "Maharashtra          901945\n",
       "Manipur                2102\n",
       "Meghalaya              5415\n",
       "Mizoram                4154\n",
       "Nagaland               1728\n",
       "Odisha               267234\n",
       "Puducherry            32144\n",
       "Punjab                46350\n",
       "Rajasthan            255134\n",
       "Sikkim                 9606\n",
       "Tamil Nadu           818691\n",
       "Tripura               45965\n",
       "Uttar Pradesh        233352\n",
       "Uttarakhand           18496\n",
       "West Bengal          849936\n",
       "Name: Total, dtype: int64"
      ]
     },
     "execution_count": 33,
     "metadata": {},
     "output_type": "execute_result"
    }
   ],
   "source": [
    "statewise_total_suicide = statewise_df.groupby(\"State\")[\"Total\"].sum()\n",
    "max = statewise_total_suicide.idxmax() #the idxmax() method returns a Series with the index of the maximum value for each row.\n",
    "\n",
    "print(\"The state which has most number of suicides:\", max)\n",
    "statewise_total_suicide\n"
   ]
  },
  {
   "cell_type": "markdown",
   "id": "10648dfa",
   "metadata": {},
   "source": [
    "#### Q2: Which age group individuals tend to commit suicide more often?"
   ]
  },
  {
   "cell_type": "code",
   "execution_count": 34,
   "id": "5e8d5ed6",
   "metadata": {},
   "outputs": [
    {
     "name": "stdout",
     "output_type": "stream",
     "text": [
      "Age group of people who tend to commit suicide more often: 15-29\n"
     ]
    },
    {
     "data": {
      "text/plain": [
       "0-14      9639\n",
       "15-29    24960\n",
       "30-44    24064\n",
       "45-59    19730\n",
       "60+      13766\n",
       "Name: Age_group, dtype: int64"
      ]
     },
     "execution_count": 34,
     "metadata": {},
     "output_type": "execute_result"
    }
   ],
   "source": [
    "counts = statewise_Age_df['Age_group'].value_counts().sort_index()\n",
    "max = counts.idxmax()\n",
    "\n",
    "print(\"Age group of people who tend to commit suicide more often:\", max)\n",
    "counts"
   ]
  },
  {
   "cell_type": "markdown",
   "id": "ed39f17d",
   "metadata": {},
   "source": [
    "#### Q3: People of which professional background has committed more suicides?"
   ]
  },
  {
   "cell_type": "code",
   "execution_count": 35,
   "id": "78eca030",
   "metadata": {},
   "outputs": [
    {
     "data": {
      "image/png": "[encoded data removed]",
      "text/plain": [
       "<Figure size 925.6x504 with 1 Axes>"
      ]
     },
     "metadata": {},
     "output_type": "display_data"
    }
   ],
   "source": [
    "filter_social_status = pd.DataFrame(statewise_df[statewise_df[\"Type_code\"]==\"Professional_Profile\"].groupby([\"Type\",\"Gender\"])[\"Total\"].sum()).reset_index()\n",
    "g = sns.catplot(x=\"Type\", y=\"Total\",hue=\"Gender\", kind=\"bar\", data=filter_social_status,height=7, aspect=11.7/7);\n",
    "g.set_xticklabels(rotation=75);"
   ]
  },
  {
   "cell_type": "markdown",
   "id": "f7272896",
   "metadata": {},
   "source": [
    "#### Q4:  Which year has the most number of suicides?"
   ]
  },
  {
   "cell_type": "code",
   "execution_count": 36,
   "id": "50631944",
   "metadata": {},
   "outputs": [
    {
     "name": "stdout",
     "output_type": "stream",
     "text": [
      "Year with the most number of suicides: 2011\n"
     ]
    }
   ],
   "source": [
    "yearwise_total_suicide = statewise_df.groupby(\"Year\")[\"Total\"].sum()\n",
    "max = yearwise_total_suicide.idxmax()\n",
    "\n",
    "print('Year with the most number of suicides:', max)"
   ]
  },
  {
   "cell_type": "markdown",
   "id": "1a830d20",
   "metadata": {},
   "source": [
    "#### Q5: How has the number of cases have been changed over the years?"
   ]
  },
  {
   "cell_type": "code",
   "execution_count": 37,
   "id": "8fcd3fbd",
   "metadata": {},
   "outputs": [
    {
     "data": {
      "image/png": "[encoded data removed]",
      "text/plain": [
       "<Figure size 796.235x504 with 1 Axes>"
      ]
     },
     "metadata": {},
     "output_type": "display_data"
    }
   ],
   "source": [
    "grouped_year = statewise_df.groupby([\"Year\",\"Gender\"])[\"Total\"].sum()\n",
    "grouped_year = pd.DataFrame(grouped_year).reset_index()\n",
    "grouped_year\n",
    "sns.lmplot(x=\"Year\", y=\"Total\", hue=\"Gender\", data=grouped_year,height=7, aspect=11.7/8.27);"
   ]
  },
  {
   "cell_type": "markdown",
   "id": "40a3d00e",
   "metadata": {},
   "source": [
    "## Inferences and Conclusion\n",
    ">According to the above analysis we can conclude the following things:\n",
    ">- Males tend to commit more suicides compared to Females in India\n",
    ">- Highest no. of suicide cases occur in Maharashtra, West Bengal, and Tamil Nadu.\n",
    ">- If the trend continues the number of suicides will increase in the future\n",
    "\n",
    ">People who commit suicide are mostly:\n",
    ">- Married\n",
    ">- Farmers and housewives\n",
    ">- Youngsters (15-29 age) and middle aged (30-44)\n",
    ">- Don't have proper or any professional education"
   ]
  }
 ],
 "metadata": {
  "kernelspec": {
   "display_name": "Python 3 (ipykernel)",
   "language": "python",
   "name": "python3"
  },
  "language_info": {
   "codemirror_mode": {
    "name": "ipython",
    "version": 3
   },
   "file_extension": ".py",
   "mimetype": "text/x-python",
   "name": "python",
   "nbconvert_exporter": "python",
   "pygments_lexer": "ipython3",
   "version": "3.9.12"
  }
 },
 "nbformat": 4,
 "nbformat_minor": 5
}
